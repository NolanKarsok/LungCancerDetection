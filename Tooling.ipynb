{
 "cells": [
  {
   "cell_type": "code",
   "execution_count": 18,
   "id": "14a4fc90",
   "metadata": {},
   "outputs": [
    {
     "name": "stdout",
     "output_type": "stream",
     "text": [
      "Answer the following questions. Age is numerical and the remaining are binary (0 = No, 1 = Yes)\n",
      "AGE: 27\n",
      "ALCOHOL CONSUMING: 0\n",
      "CHEST PAIN: 0\n",
      "Probability of being labeled as 1: 0.01\n"
     ]
    }
   ],
   "source": [
    "#Data Preprocessing Packages\n",
    "import numpy as np\n",
    "import pandas as pd\n",
    "import matplotlib.pyplot as plt\n",
    "import seaborn as sns\n",
    "from sklearn.preprocessing import LabelEncoder\n",
    "from sklearn.model_selection import train_test_split,cross_val_score\n",
    "import graphviz\n",
    "from imblearn.over_sampling import RandomOverSampler\n",
    "from sklearn.feature_selection import SelectKBest,chi2\n",
    "\n",
    "#Model Building Packages\n",
    "from sklearn.linear_model import LogisticRegression\n",
    "from sklearn.neighbors import KNeighborsClassifier\n",
    "from sklearn.ensemble import RandomForestClassifier\n",
    "from sklearn.ensemble import GradientBoostingClassifier\n",
    "from sklearn.model_selection import GridSearchCV\n",
    "from sklearn.tree import DecisionTreeClassifier, export_graphviz\n",
    "from sklearn.svm import SVC\n",
    "\n",
    "#Model Evaluation Packages\n",
    "from sklearn.metrics import r2_score, mean_squared_error\n",
    "from sklearn.metrics import classification_report, confusion_matrix, accuracy_score, recall_score\n",
    "\n",
    "import warnings\n",
    "warnings.filterwarnings('ignore')\n",
    "\n",
    "# Load the dataset\n",
    "df = pd.read_csv('C:/Users/nkars/OneDrive/Documents/Machine Learning/Course Project/survey lung cancer.csv')\n",
    "\n",
    "for categorical_column in df:\n",
    "    if categorical_column == 'AGE': # Skip the 'AGE' column as it is continuous numerical attribute\n",
    "        continue\n",
    "    df[categorical_column]=LabelEncoder().fit_transform(df[categorical_column])\n",
    "    \n",
    "X = df[[\"AGE\", \"ALCOHOL CONSUMING\", \"CHEST PAIN\"]]\n",
    "y = df['LUNG_CANCER'] # Target variable\n",
    "\n",
    "# Split the dataset into train and test sets\n",
    "X_train, X_test, y_train, y_test = train_test_split(X, y, test_size=0.2, random_state=42)\n",
    "\n",
    "# resample minority class in both test and train\n",
    "# We do this after the split so that duplicates don't pollute either set\n",
    "X_train, y_train = RandomOverSampler().fit_resample(X_train, y_train)\n",
    "X_test, y_test = RandomOverSampler().fit_resample(X_test, y_test)\n",
    "\n",
    "# Choose the features to be used in the model\n",
    "features = ['AGE', 'ALCOHOL CONSUMING', 'CHEST PAIN']\n",
    "\n",
    "# Train the model on the entire dataset\n",
    "model = RandomForestClassifier(n_estimators=100)\n",
    "\n",
    "model.fit(X_train, y_train)\n",
    "\n",
    "# Define a function to ask the questions and get the responses\n",
    "def ask_questions():\n",
    "    # Ask the questions and get the responses here\n",
    "    answers = []\n",
    "    print(\"Answer the following questions. Age is numerical and the remaining are binary (0 = No, 1 = Yes)\")\n",
    "    for feature in features:\n",
    "        answer = input(f\"{feature}: \")\n",
    "        answers.append(answer)\n",
    "    return np.array(answers).reshape(1, -1)\n",
    "\n",
    "# Use the predict_proba function to get the probability of being labeled as 1\n",
    "answers = ask_questions()\n",
    "probabilities = model.predict_proba(answers)[:,1]\n",
    "print(f\"Probability of being labeled as 1: {probabilities[0]:.2f}\")"
   ]
  },
  {
   "cell_type": "code",
   "execution_count": null,
   "id": "1829c4c7",
   "metadata": {},
   "outputs": [],
   "source": []
  }
 ],
 "metadata": {
  "kernelspec": {
   "display_name": "Python 3 (ipykernel)",
   "language": "python",
   "name": "python3"
  },
  "language_info": {
   "codemirror_mode": {
    "name": "ipython",
    "version": 3
   },
   "file_extension": ".py",
   "mimetype": "text/x-python",
   "name": "python",
   "nbconvert_exporter": "python",
   "pygments_lexer": "ipython3",
   "version": "3.9.12"
  }
 },
 "nbformat": 4,
 "nbformat_minor": 5
}

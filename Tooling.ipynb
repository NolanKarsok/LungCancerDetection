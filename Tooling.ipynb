{
 "cells": [
  {
   "cell_type": "markdown",
   "id": "e8cd4d6d",
   "metadata": {},
   "source": [
    "## Table of Contents:\n",
    "<font size=\"4\"><a href=\"#1\">1.) Import Necessary Packages and Libraries</a></font><br>\n",
    "<font size=\"4\"><a href=\"#2\">2.) Data Preprocessing and Cleaning</a></font><br>\n",
    "<font size=\"4\"><a href=\"#3\">3.) Model Building</a></font><br>\n",
    "<font size=\"4\"><a href=\"#4\">4.) Tooling</a></font><br>"
   ]
  },
  {
   "cell_type": "code",
   "execution_count": 1,
   "id": "61e5f211",
   "metadata": {},
   "outputs": [],
   "source": [
    "import warnings\n",
    "warnings.filterwarnings('ignore')"
   ]
  },
  {
   "cell_type": "markdown",
   "id": "54ff6b1c",
   "metadata": {},
   "source": [
    "## 1.) Import Necessary Packages and Libraries <a class=\"anchor\" id=\"1\"></a>"
   ]
  },
  {
   "cell_type": "code",
   "execution_count": 2,
   "id": "467544d0",
   "metadata": {},
   "outputs": [],
   "source": [
    "#Import necessary libraries\n",
    "import pandas as pd\n",
    "import numpy as np\n",
    "import dash\n",
    "import dash_core_components as dcc\n",
    "import dash_html_components as html\n",
    "from sklearn.preprocessing import LabelEncoder\n",
    "from sklearn.model_selection import train_test_split\n",
    "from imblearn.over_sampling import RandomOverSampler\n",
    "from sklearn.ensemble import RandomForestClassifier\n",
    "from dash.dependencies import Output\n",
    "from dash.dependencies import Input\n",
    "from dash.dependencies import State"
   ]
  },
  {
   "cell_type": "markdown",
   "id": "97f59f7b",
   "metadata": {},
   "source": [
    "## 2.) Data Preprocessing and Cleaning <a class=\"anchor\" id=\"2\"></a>"
   ]
  },
  {
   "cell_type": "code",
   "execution_count": 3,
   "id": "ecd2779c",
   "metadata": {},
   "outputs": [],
   "source": [
    "# Load the dataset\n",
    "df = pd.read_csv('LINK_TO_DATASET/survey lung cancer.csv')\n",
    "# Preprocess the data\n",
    "for categorical_column in df:\n",
    "    if categorical_column == 'AGE': # Skip the 'AGE' column as it is continuous numerical attribute\n",
    "        continue\n",
    "    df[categorical_column]=LabelEncoder().fit_transform(df[categorical_column])\n",
    "\n",
    "X = df[[\"YELLOW_FINGERS\", \"CHEST PAIN\", \"PEER_PRESSURE\", \"ALLERGY \", \"WHEEZING\", \"COUGHING\", \"SWALLOWING DIFFICULTY\"]]\n",
    "y = df['LUNG_CANCER']\n",
    "\n",
    "# Split the dataset into train and test sets\n",
    "X_train, X_test, y_train, y_test = train_test_split(X, y, test_size=0.2, random_state=42)\n",
    "\n",
    "# Resample minority class in both test and train\n",
    "X_train, y_train = RandomOverSampler().fit_resample(X_train, y_train)\n",
    "X_test, y_test = RandomOverSampler().fit_resample(X_test, y_test)"
   ]
  },
  {
   "cell_type": "markdown",
   "id": "1ec68798",
   "metadata": {},
   "source": [
    "## 3.) Model Building <a class=\"anchor\" id=\"3\"></a>"
   ]
  },
  {
   "cell_type": "code",
   "execution_count": 4,
   "id": "9a0d9ddc",
   "metadata": {},
   "outputs": [
    {
     "data": {
      "text/plain": [
       "RandomForestClassifier()"
      ]
     },
     "execution_count": 4,
     "metadata": {},
     "output_type": "execute_result"
    }
   ],
   "source": [
    "# Train the model\n",
    "model = RandomForestClassifier(n_estimators=100)\n",
    "model.fit(X_train, y_train)"
   ]
  },
  {
   "cell_type": "markdown",
   "id": "5c63f15e",
   "metadata": {},
   "source": [
    "## 4.) Tooling <a class=\"anchor\" id=\"4\"></a>"
   ]
  },
  {
   "cell_type": "code",
   "execution_count": null,
   "id": "ec9875c9",
   "metadata": {},
   "outputs": [],
   "source": [
    "# Create the app\n",
    "app = dash.Dash(__name__)\n",
    "\n",
    "# Define the layout of the app\n",
    "app.layout = html.Div([\n",
    "    html.H1('Lung Cancer Prediction'),\n",
    "    html.Div([\n",
    "        html.H4('Yellow Fingers:'),\n",
    "        dcc.Dropdown(\n",
    "            id='yellow-fingers',\n",
    "            options=[\n",
    "                {'label': 'Yes', 'value': 1},\n",
    "                {'label': 'No', 'value': 0}\n",
    "            ],\n",
    "            value=0\n",
    "        ),\n",
    "    ], style={'width': '25%', 'display': 'inline-block'}),\n",
    "    html.Div([\n",
    "        html.H4('Chest Pain:'),\n",
    "        dcc.Dropdown(\n",
    "            id='chest-pain',\n",
    "            options=[\n",
    "                {'label': 'Yes', 'value': 1},\n",
    "                {'label': 'No', 'value': 0}\n",
    "            ],\n",
    "            value=0\n",
    "        ),\n",
    "    ], style={'width': '25%', 'display': 'inline-block'}),\n",
    "    html.Div([\n",
    "        html.H4('Peer Pressure:'),\n",
    "        dcc.Dropdown(\n",
    "            id='peer-pressure',\n",
    "            options=[\n",
    "                {'label': 'Yes', 'value': 1},\n",
    "                {'label': 'No', 'value': 0}\n",
    "            ],\n",
    "            value=0\n",
    "        ),\n",
    "    ], style={'width': '25%', 'display': 'inline-block'}),\n",
    "    html.Div([\n",
    "        html.H4('Allergy:'),\n",
    "        dcc.Dropdown(\n",
    "            id='allergy',\n",
    "            options=[\n",
    "                {'label': 'Yes', 'value': 1},\n",
    "                {'label': 'No', 'value': 0}\n",
    "            ],\n",
    "            value=0\n",
    "        ),\n",
    "    ], style={'width': '25%', 'display': 'inline-block'}),\n",
    "    html.Div([\n",
    "        html.H4('Wheezing:'),\n",
    "        dcc.Dropdown(\n",
    "            id='wheezing',\n",
    "            options=[\n",
    "                {'label': 'Yes', 'value': 1},\n",
    "                {'label': 'No', 'value': 0}\n",
    "            ],\n",
    "            value=0\n",
    "        ),\n",
    "    ], style={'width': '25%', 'display': 'inline-block'}),\n",
    "    html.Div([\n",
    "        html.H4('Coughing:'),\n",
    "        dcc.Dropdown(\n",
    "            id='coughing',\n",
    "            options=[\n",
    "                {'label': 'Yes', 'value': 1},\n",
    "                {'label': 'No', 'value': 0}\n",
    "            ],\n",
    "            value=0\n",
    "        ),\n",
    "    ], style={'width': '25%', 'display': 'inline-block'}),\n",
    "    html.Div([\n",
    "        html.H4('Swallowing Difficulty:'),\n",
    "        dcc.Dropdown(\n",
    "            id='swallowing-difficulty',\n",
    "            options=[\n",
    "                {'label': 'Yes', 'value': 1},\n",
    "                {'label': 'No', 'value': 0}\n",
    "            ],\n",
    "            value=0\n",
    "        ),\n",
    "    ], style={'width': '25%', 'display': 'inline-block'}),\n",
    "    html.Div([\n",
    "        html.Button('Predict', id='predict-button', n_clicks=0)\n",
    "    ], style={'display': 'inline-block'}),\n",
    "    html.Div([\n",
    "        html.H2(id='result')\n",
    "    ])\n",
    "])\n",
    "\n",
    "# Define the callback\n",
    "@app.callback(\n",
    "    Output('result', 'children'),\n",
    "    Input('predict-button', 'n_clicks'),\n",
    "    State('yellow-fingers', 'value'),\n",
    "    State('chest-pain', 'value'),\n",
    "    State('peer-pressure', 'value'),\n",
    "    State('allergy', 'value'),\n",
    "    State('wheezing', 'value'),\n",
    "    State('coughing', 'value'),\n",
    "    State('swallowing-difficulty', 'value')\n",
    ")\n",
    "def predict_lung_cancer(n_clicks, yellow_fingers, chest_pain, peer_pressure, allergy, wheezing, coughing, swallowing_difficulty):\n",
    "    # Make a prediction using the model\n",
    "    features = np.array([yellow_fingers, chest_pain, peer_pressure, allergy, wheezing, coughing, swallowing_difficulty]).reshape(1, -1)\n",
    "    probabilities = model.predict_proba(features)[:, 1]\n",
    "    prediction = 'Yes' if probabilities > 0.5 else 'No'\n",
    "    return f\"The probability of having lung cancer is {probabilities[0]:.2f}. Prediction: {prediction}\"\n",
    "\n",
    "# Run the app\n",
    "if __name__ == '__main__':\n",
    "    app.run_server(debug=False)"
   ]
  }
 ],
 "metadata": {
  "kernelspec": {
   "display_name": "Python 3 (ipykernel)",
   "language": "python",
   "name": "python3"
  },
  "language_info": {
   "codemirror_mode": {
    "name": "ipython",
    "version": 3
   },
   "file_extension": ".py",
   "mimetype": "text/x-python",
   "name": "python",
   "nbconvert_exporter": "python",
   "pygments_lexer": "ipython3",
   "version": "3.9.12"
  }
 },
 "nbformat": 4,
 "nbformat_minor": 5
}
